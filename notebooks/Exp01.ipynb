{
 "cells": [
  {
   "cell_type": "markdown",
   "metadata": {
    "deletable": true,
    "editable": true
   },
   "source": [
    "# Experiment 01: Influence of number of centers"
   ]
  },
  {
   "cell_type": "code",
   "execution_count": 1,
   "metadata": {
    "collapsed": false,
    "deletable": true,
    "editable": true
   },
   "outputs": [],
   "source": [
    "%matplotlib inline\n",
    "\n",
    "import os\n",
    "import sys\n",
    "import copy\n",
    "import time\n",
    "import pickle\n",
    "from array import array\n",
    "import numpy as np\n",
    "np.seterr(over='ignore')\n",
    "import scipy as sp\n",
    "import matplotlib.pyplot as plt\n",
    "from scipy import optimize\n",
    "from scipy.interpolate import RegularGridInterpolator\n",
    "from mpl_toolkits.mplot3d import Axes3D\n",
    "from mpl_toolkits.axes_grid1 import make_axes_locatable\n",
    "from ipywidgets import interact, interactive, fixed, FloatSlider\n",
    "\n",
    "# autoreload user modules functionality\n",
    "%load_ext autoreload\n",
    "%autoreload 2\n",
    "\n",
    "# VarClump functions\n",
    "sys.path.append('../lib/')\n",
    "from utils import *\n",
    "from graph import *\n",
    "from points_generation import *\n",
    "from initial_guess import *\n",
    "from variational import *\n",
    "from gmr import *"
   ]
  },
  {
   "cell_type": "markdown",
   "metadata": {
    "deletable": true,
    "editable": true
   },
   "source": [
    "## Loading data 2D"
   ]
  },
  {
   "cell_type": "code",
   "execution_count": 2,
   "metadata": {
    "collapsed": false,
    "deletable": true,
    "editable": true
   },
   "outputs": [
    {
     "data": {
      "image/png": "[encoded data removed]",
      "text/plain": [
       "<matplotlib.figure.Figure at 0x7f8774da20f0>"
      ]
     },
     "metadata": {},
     "output_type": "display_data"
    }
   ],
   "source": [
    "\"\"\"\n",
    "Loading data\n",
    "\"\"\"\n",
    "\n",
    "fits_path = '../data/images/Orion.cont.image.fits'\n",
    "x, y, data, dfunc = load_data(fits_path)\n",
    "image_plot(data)"
   ]
  },
  {
   "cell_type": "code",
   "execution_count": null,
   "metadata": {
    "collapsed": false,
    "deletable": true,
    "editable": true
   },
   "outputs": [
    {
     "name": "stderr",
     "output_type": "stream",
     "text": [
      "/home/mavillan/anaconda3/lib/python3.6/site-packages/traitlets/traitlets.py:567: FutureWarning: comparison to `None` will result in an elementwise object comparison in the future.\n",
      "  silent = bool(old_value == new_value)\n",
      "Widget Javascript not detected.  It may not be installed or enabled properly.\n"
     ]
    },
    {
     "data": {
      "application/vnd.jupyter.widget-view+json": {
       "model_id": "c6f8950612fe460684c6330e1eb8018a"
      }
     },
     "metadata": {},
     "output_type": "display_data"
    },
    {
     "data": {
      "text/plain": [
       "<function graph.thresholded_image_plot>"
      ]
     },
     "execution_count": 3,
     "metadata": {},
     "output_type": "execute_result"
    }
   ],
   "source": [
    "base_level = estimate_rms(data)\n",
    "interact(thresholded_image_plot, data=fixed(data), level=FloatSlider(min=base_level,max=1.,step=0.01,value=base_level))"
   ]
  },
  {
   "cell_type": "code",
   "execution_count": null,
   "metadata": {
    "collapsed": false,
    "deletable": true,
    "editable": true
   },
   "outputs": [],
   "source": [
    "# common parameters\n",
    "minsig = ( 0.5*(1./data.shape[0] + 1./data.shape[1]) ) / 6.\n",
    "maxsig = 30*minsig\n",
    "\n",
    "\n",
    "elm_list = list()\n",
    "\n",
    "for Np in range(50, 801, 25):\n",
    "    # number of points of each type\n",
    "    Nb = int(Np*0.2)\n",
    "    Nc = int(Np*0.8)\n",
    "    Ne = 4*Nc-Nb\n",
    "    \n",
    "    # points generation\n",
    "    center_points = random_centers_generation(data, Nc, base_level=base_level, power=5.)\n",
    "    collocation_points = qrandom_centers_generation(dfunc, Ne, base_level, ndim=2)\n",
    "    boundary_points = boundary_generation(Nb)\n",
    "    \n",
    "    # right format\n",
    "    xc = center_points[:,0]\n",
    "    yc = center_points[:,1]\n",
    "    xe = collocation_points[:,0]\n",
    "    ye = collocation_points[:,1]\n",
    "    xb = boundary_points[:,0]\n",
    "    yb = boundary_points[:,1]\n",
    "    \n",
    "#    # visualizing the choosen points\n",
    "#    points_plot(data, center_points=center_points, title=\"Center Points\")\n",
    "#    points_plot(data, center_points=collocation_points, title=\"Collocation Points\")\n",
    "\n",
    "\n",
    "    ####################################\n",
    "    # Initial parameters estimation\n",
    "    ####################################\n",
    "    #c0, sig0 = estimate_initial_guess(center_points, f, R=0.009, method='mean_dist')\n",
    "    c0, sig0 = estimate_initial_guess(center_points, dfunc, minsig=minsig, maxsig=maxsig, method='min_dist')\n",
    "    #c0, sig0 = _estimate_initial_guess(dfunc, data, center_points, base_level)\n",
    "\n",
    "\n",
    "#    solution_plot(dfunc, c0, sig0, xc, yc, dims=data.shape, base_level=base_level)\n",
    "#    params_plot(c0, sig0, xc, yc)\n",
    "#    params_distribution_plot(c0, sig0)\n",
    "    elm_list.append(ELModel(data, dfunc, data.shape, xe, ye, xc, yc, xb, yb, c0, sig0, a=1., lamb1=1., d1psi1=d1psi, \n",
    "                    d1psi2=d1psi, d2psi2=d2psi, base_level=base_level, pix_freedom=1.))"
   ]
  },
  {
   "cell_type": "code",
   "execution_count": null,
   "metadata": {
    "collapsed": false,
    "deletable": true,
    "editable": true,
    "scrolled": false
   },
   "outputs": [],
   "source": [
    "for elm in elm_list:\n",
    "    print('#'*90)\n",
    "    print('Processing {0} centers example'.format(len(elm.c)))\n",
    "    print('#'*90 + '\\n')\n",
    "    nfev = 100*(len(elm.get_params())+1)\n",
    "    elm_solver(elm, method='standard', max_nfev=nfev)\n",
    "    \n",
    "#pickling results\n",
    "target = open(\"elm_list.pkl\", \"wb\")\n",
    "pickle.dump(elm_list, target)\n",
    "target.close()"
   ]
  },
  {
   "cell_type": "code",
   "execution_count": null,
   "metadata": {
    "collapsed": true,
    "deletable": true,
    "editable": true
   },
   "outputs": [],
   "source": []
  }
 ],
 "metadata": {
  "kernelspec": {
   "display_name": "Python 3",
   "language": "python",
   "name": "python3"
  },
  "language_info": {
   "codemirror_mode": {
    "name": "ipython",
    "version": 3
   },
   "file_extension": ".py",
   "mimetype": "text/x-python",
   "name": "python",
   "nbconvert_exporter": "python",
   "pygments_lexer": "ipython3",
   "version": "3.6.1"
  },
  "widgets": {
   "state": {
    "9e1fdda8a90b46cd85973aa7d4ffa625": {
     "views": [
      {
       "cell_index": 4
      }
     ]
    }
   },
   "version": "1.2.0"
  }
 },
 "nbformat": 4,
 "nbformat_minor": 2
}
